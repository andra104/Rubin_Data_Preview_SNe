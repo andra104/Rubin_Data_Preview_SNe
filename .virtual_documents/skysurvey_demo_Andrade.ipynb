import skysurvey
from skysurvey import effects

#snia = skysurvey.SNeIa()
snia = skysurvey.SNeIa.from_draw(1000, effect=effects.mw_extinction)
data = snia.draw(size=50_000, tstart=56_000, tstop=56_100, inplace=True) # see options


data.head(5) # also snia.data


import numpy as np
from skysurvey.tools import utils

size = 10_000

# footprint
from shapely import geometry
sq_footprint = geometry.box(-1, -1, +1, +1)

# Observing data
ra, dec = utils.random_radec(size=size, ra_range=[200,250], dec_range=[-20,10])

data = {}
data["ra"] = ra
data["dec"] = dec
data["gain"] = 1
data["zp"] = 30
data["skynoise"] = np.random.normal(size=size, loc=150, scale=20)
data["mjd"] = np.random.uniform(56_000-10, 56_100 + 10, size=size)
data["band"] = np.random.choice(["desg","desr","desi"], size=size)

# Build the survey
survey = skysurvey.Survey.from_pointings(data, footprint=sq_footprint)
survey.data


from skysurvey import dataset
dset = dataset.DataSet.from_targets_and_survey(snia, survey)
dset.data


import pandas as pd
import numpy as np
import matplotlib.pyplot as plt
from astropy.coordinates import SkyCoord
import astropy.units as u





#Configuration

# Define the four DP1 fields with central RA/Dec
fields = {
    "ECDFS":  (53.1,  -27.8),
    "EDFS":   (59.8,  -48.7),
    "LELF":   (38.6,    7.2),
    "Fornax": (106.4, -10.8)
}

# Parameters for the 3x3 CCD grid
n_tiles = 3
tile_sep_deg = 0.15  # typical spacing ~0.15 deg between CCD centers





# Build pointing table
pointings = []
for field_name, (ra_center, dec_center) in fields.items():
    for dx in range(-1, 2):  # -1, 0, 1
        for dy in range(-1, 2):
            ra = ra_center + dx * tile_sep_deg
            dec = dec_center + dy * tile_sep_deg
            pointings.append({
                "field": field_name,
                "ra": ra,
                "dec": dec,
                "mjd": 59850.0,
                "band": "r",
                "depth": 24.0
            })

df_pointings = pd.DataFrame(pointings)

# Convert to SkyCoord for plotting
coords = SkyCoord(ra=df_pointings['ra'].values * u.deg,
                  dec=df_pointings['dec'].values * u.deg, frame='icrs')






# Plot the footprint
plt.figure(figsize=(8, 6))
scatter = plt.scatter(coords.ra.deg, coords.dec.deg, c=df_pointings['field'].astype('category').cat.codes,
                      cmap='tab10', s=60, edgecolor='k', alpha=0.8)
plt.xlabel("RA [deg]")
plt.ylabel("Dec [deg]")
plt.title("Rubin DP1 3×3 CCD Pointings for Each Field")
plt.gca().invert_xaxis()
plt.grid(True)
plt.legend(*scatter.legend_elements(), title="Field", loc="upper right")
plt.tight_layout()



